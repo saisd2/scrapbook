{
 "cells": [
  {
   "cell_type": "code",
   "execution_count": 1,
   "id": "8df74a4c-537f-4cb8-92f3-c9ead1c3040f",
   "metadata": {},
   "outputs": [
    {
     "name": "stdout",
     "output_type": "stream",
     "text": [
      "Requirement already satisfied: pillow in /Users/saidasari/opt/anaconda3/lib/python3.8/site-packages (8.2.0)\n"
     ]
    }
   ],
   "source": [
    "# Use if pillow not installed\n",
    "# !pip install pillow"
   ]
  },
  {
   "cell_type": "code",
   "execution_count": 2,
   "id": "b5226e94-14a7-415d-a481-4211c22d60c8",
   "metadata": {},
   "outputs": [],
   "source": [
    "import colorsys;\n",
    "import PIL as Image\n",
    "import numpy as np"
   ]
  },
  {
   "cell_type": "code",
   "execution_count": null,
   "id": "77a69354-3966-4b21-9276-c585b51e704b",
   "metadata": {},
   "outputs": [],
   "source": [
    "img = Image.open('ECE copy.png')\n",
    "\n",
    "\n",
    "def high_contrast(pic):\n",
    "    pixels = pic.load() # create the pixel map\n",
    "    print(pixels);\n",
    "    for i in range(img.size[0]): # for every pixel:\n",
    "        for j in range(img.size[1]):\n",
    "            #print(pixels[i,j])\n",
    "            r,g,b = pixels[i,j];\n",
    "            print(str(r) + \" \" + str(g) + \" \" + str(b))\n",
    "            colorsys.rgb_to_hls(r/225.0,g/225.0,b/255.0)\n",
    "\n",
    "high_contrast(img)"
   ]
  }
 ],
 "metadata": {
  "kernelspec": {
   "display_name": "Python 3",
   "language": "python",
   "name": "python3"
  },
  "language_info": {
   "codemirror_mode": {
    "name": "ipython",
    "version": 3
   },
   "file_extension": ".py",
   "mimetype": "text/x-python",
   "name": "python",
   "nbconvert_exporter": "python",
   "pygments_lexer": "ipython3",
   "version": "3.8.8"
  }
 },
 "nbformat": 4,
 "nbformat_minor": 5
}
