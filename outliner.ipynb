{
 "cells": [
  {
   "cell_type": "code",
   "execution_count": 1,
   "id": "8df74a4c-537f-4cb8-92f3-c9ead1c3040f",
   "metadata": {},
   "outputs": [],
   "source": [
    "# Use if pillow not installed\n",
    "# !pip install pillow"
   ]
  },
  {
   "cell_type": "code",
   "execution_count": 2,
   "id": "b5226e94-14a7-415d-a481-4211c22d60c8",
   "metadata": {},
   "outputs": [],
   "source": [
    "import colorsys;\n",
    "from PIL import Image\n",
    "import numpy as np"
   ]
  },
  {
   "cell_type": "code",
   "execution_count": 2,
   "id": "77a69354-3966-4b21-9276-c585b51e704b",
   "metadata": {},
   "outputs": [
    {
     "ename": "NameError",
     "evalue": "name 'Image' is not defined",
     "output_type": "error",
     "traceback": [
      "\u001b[0;31m---------------------------------------------------------------------------\u001b[0m",
      "\u001b[0;31mNameError\u001b[0m                                 Traceback (most recent call last)",
      "\u001b[1;32m/Users/aceprime80/Documents/UIUC 2021-22/scrapbook/outliner.ipynb Cell 3'\u001b[0m in \u001b[0;36m<module>\u001b[0;34m\u001b[0m\n\u001b[0;32m----> <a href='vscode-notebook-cell:/Users/aceprime80/Documents/UIUC%202021-22/scrapbook/outliner.ipynb#ch0000002?line=0'>1</a>\u001b[0m imgOrg \u001b[39m=\u001b[39m Image\u001b[39m.\u001b[39mopen(\u001b[39m'\u001b[39m\u001b[39mmona.jpg\u001b[39m\u001b[39m'\u001b[39m)\n\u001b[1;32m      <a href='vscode-notebook-cell:/Users/aceprime80/Documents/UIUC%202021-22/scrapbook/outliner.ipynb#ch0000002?line=2'>3</a>\u001b[0m \u001b[39m#takes in a picture expected to be RGB not RGBA and a threshold for setting pixel to black or white\u001b[39;00m\n\u001b[1;32m      <a href='vscode-notebook-cell:/Users/aceprime80/Documents/UIUC%202021-22/scrapbook/outliner.ipynb#ch0000002?line=3'>4</a>\u001b[0m \u001b[39mdef\u001b[39;00m \u001b[39mhigh_contrast\u001b[39m(picture, thres):\n",
      "\u001b[0;31mNameError\u001b[0m: name 'Image' is not defined"
     ]
    }
   ],
   "source": [
    "imgOrg = Image.open('mona.jpg')\n",
    "\n",
    "#takes in a picture expected to be RGB not RGBA and a threshold for setting pixel to black or white\n",
    "def high_contrast(picture, thres):\n",
    "    pic = picture.copy()\n",
    "    pixels = pic.load() # create the pixel map\n",
    "    print(pixels);\n",
    "    max = 0\n",
    "    for i in range(pic.size[0]): # for every pixel:\n",
    "        for j in range(pic.size[1]):\n",
    "            #print(pixels[i,j])\n",
    "            r,g,b = pixels[i,j];\n",
    "            average = int((r + b + g) / 3)\n",
    "            if max < average:\n",
    "                max = average;\n",
    "            pixels[i,j] = (average, average, average)\n",
    "            #print(str(r) + \" \" + str(g) + \" \" + str(b))\n",
    "    #pic.show()\n",
    "    for i in range(pic.size[0]): # for every pixel:\n",
    "        for j in range(pic.size[1]):\n",
    "            #print(pixels[i,j])\n",
    "            r,g,b = pixels[i,j];\n",
    "            scaled = int(255 * r / max)\n",
    "            if (scaled < thres) :\n",
    "                scaled = 0\n",
    "            else:\n",
    "                scaled = 255\n",
    "            pixels[i,j] = (scaled, scaled, scaled)\n",
    "    return pic\n",
    "\n",
    "high_contrast(imgOrg, 100)\n"
   ]
  },
  {
   "cell_type": "code",
   "execution_count": 8,
   "id": "09f86a78",
   "metadata": {},
   "outputs": [],
   "source": [
    "def blank(picture):\n",
    "    pic = picture.copy();\n",
    "    pixels = pic.load()\n",
    "    for i in range(pic.size[0]): # for every pixel:\n",
    "        for j in range(pic.size[1]):\n",
    "            #print(pixels[i,j])\n",
    "            pixels[i,j] = (255, 255, 255)\n",
    "    return pic"
   ]
  },
  {
   "cell_type": "code",
   "execution_count": 40,
   "id": "b742e3dc",
   "metadata": {},
   "outputs": [
    {
     "name": "stdout",
     "output_type": "stream",
     "text": [
      "<PixelAccess object at 0x7fb088d87750>\n"
     ]
    },
    {
     "data": {
      "image/png": "[encoded data removed]",
      "text/plain": [
       "<PIL.Image.Image image mode=RGB size=1024x374 at 0x7FB0596B1900>"
      ]
     },
     "execution_count": 40,
     "metadata": {},
     "output_type": "execute_result"
    }
   ],
   "source": [
    "def outline(pic, thres):\n",
    "    highCon = high_contrast(pic, thres)\n",
    "    out = blank(pic)\n",
    "\n",
    "    highConPixels = highCon.load()\n",
    "    outPixels = out.load()\n",
    "    \n",
    "    for i in range(pic.size[0]): # for every pixel:\n",
    "        for j in range(pic.size[1]):\n",
    "            #print(pixels[i,j])\n",
    "            if highConPixels[i,j] == (0,0,0):\n",
    "                if (i == 0):\n",
    "                    if (j == 0):\n",
    "                        if highConPixels[i+1,j] == (255,255,255) or highConPixels[i+1,j+1] == (255,255,255) or highConPixels[i,j+1] == (255,255,255):\n",
    "                            outPixels[i,j] = (0,0,0)\n",
    "                    elif (j == pic.size[1] -1):\n",
    "                        if highConPixels[i+1,j] == (255,255,255) or highConPixels[i+1,j-1] == (255,255,255) or highConPixels[i,j-1] == (255,255,255):\n",
    "                            outPixels[i,j] = (0,0,0)\n",
    "                    else:\n",
    "                        if highConPixels[i+1,j] == (255,255,255) or highConPixels[i+1,j-1] == (255,255,255) or highConPixels[i,j-1] == (255,255,255) or highConPixels[i+1,j+1] == (255,255,255) or highConPixels[i,j+1] == (255,255,255):\n",
    "                            outPixels[i,j] = (0,0,0)\n",
    "                elif (i == pic.size[0] -1):\n",
    "                    if (j == 0):\n",
    "                        if highConPixels[i-11,j] == (255,255,255) or highConPixels[i-11,j+1] == (255,255,255) or highConPixels[i,j+1] == (255,255,255):\n",
    "                            outPixels[i,j] = (0,0,0)\n",
    "                    elif (j == pic.size[1] -1):\n",
    "                        if highConPixels[i-1,j] == (255,255,255) or highConPixels[i-1,j-1] == (255,255,255) or highConPixels[i,j-1] == (255,255,255):\n",
    "                            outPixels[i,j] = (0,0,0)\n",
    "                    else:\n",
    "                        if highConPixels[i-1,j] == (255,255,255) or highConPixels[i-1,j-1] == (255,255,255) or highConPixels[i,j-1] == (255,255,255) or highConPixels[i-1,j+1] == (255,255,255) or highConPixels[i,j+1] == (255,255,255):\n",
    "                            outPixels[i,j] = (0,0,0)\n",
    "                else:\n",
    "                    if (j == 0):\n",
    "                        if highConPixels[i-11,j] == (255,255,255) or highConPixels[i-11,j+1] == (255,255,255) or highConPixels[i,j+1] == (255,255,255) or highConPixels[i+1,j] == (255,255,255) or highConPixels[i+1,j+1] == (255,255,255):\n",
    "                            outPixels[i,j] = (0,0,0)\n",
    "                    elif (j == pic.size[1] -1):\n",
    "                        if highConPixels[i-1,j] == (255,255,255) or highConPixels[i-1,j-1] == (255,255,255) or highConPixels[i,j-1] == (255,255,255) or highConPixels[i+1,j] == (255,255,255) or highConPixels[i+1,j-1] == (255,255,255):\n",
    "                            outPixels[i,j] = (0,0,0)\n",
    "                    else:\n",
    "                        if highConPixels[i-1,j] == (255,255,255) or highConPixels[i-1,j-1] == (255,255,255) or highConPixels[i-1,j+1] == (255,255,255) or highConPixels[i,j+1] == (255,255,255) or highConPixels[i+1,j] == (255,255,255) or highConPixels[i+1,j-1] == (255,255,255) or highConPixels[i,j-1] == (255,255,255) or highConPixels[i+1,j+1] == (255,255,255):\n",
    "                            outPixels[i,j] = (0,0,0)\n",
    "    return out\n",
    "\n",
    "outline(imgOrg, 150)\n",
    "    "
   ]
  }
 ],
 "metadata": {
  "kernelspec": {
   "display_name": "Python 3 (ipykernel)",
   "language": "python",
   "name": "python3"
  },
  "language_info": {
   "codemirror_mode": {
    "name": "ipython",
    "version": 3
   },
   "file_extension": ".py",
   "mimetype": "text/x-python",
   "name": "python",
   "nbconvert_exporter": "python",
   "pygments_lexer": "ipython3",
   "version": "3.10.0"
  }
 },
 "nbformat": 4,
 "nbformat_minor": 5
}
