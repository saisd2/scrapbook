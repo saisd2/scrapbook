{
 "cells": [
  {
   "cell_type": "code",
   "execution_count": 1,
   "id": "8df74a4c-537f-4cb8-92f3-c9ead1c3040f",
   "metadata": {},
   "outputs": [],
   "source": [
    "# Use if requirements not installed!!!\n",
    "# !pip install pillow\n",
    "# !pip install opencv-python"
   ]
  },
  {
   "cell_type": "code",
   "execution_count": 2,
   "id": "b5226e94-14a7-415d-a481-4211c22d60c8",
   "metadata": {},
   "outputs": [],
   "source": [
    "import colorsys;\n",
    "from PIL import Image\n",
    "import numpy as np\n",
    "from numpy import *\n",
    "import cv2\n",
    "import math\n",
    "import pylab\n",
    "from pylab import imread, imshow\n",
    "import matplotlib.pyplot as plt\n",
    "from skimage.color import rgb2gray"
   ]
  },
  {
   "cell_type": "code",
   "execution_count": 3,
   "id": "31d5f19c-2735-41d5-b281-2b72563206e1",
   "metadata": {},
   "outputs": [],
   "source": [
    "#Change this to desired file name!\n",
    "file_name = 'minmona.jpg'"
   ]
  },
  {
   "cell_type": "code",
   "execution_count": 4,
   "id": "77a69354-3966-4b21-9276-c585b51e704b",
   "metadata": {},
   "outputs": [
    {
     "name": "stdout",
     "output_type": "stream",
     "text": [
      "<PixelAccess object at 0x7f8ec04b0810>\n"
     ]
    },
    {
     "data": {
      "image/png": "[encoded data removed]",
      "text/plain": [
       "<PIL.Image.Image image mode=RGB size=750x1000 at 0x7F8EC048D6A0>"
      ]
     },
     "execution_count": 4,
     "metadata": {},
     "output_type": "execute_result"
    }
   ],
   "source": [
    "imgOrg = Image.open(file_name).convert('RGB')\n",
    "im1 = imread(file_name)\n",
    "\n",
    "#takes in a picture expected to be RGB not RGBA and a threshold for setting pixel to black or white\n",
    "def high_contrast(picture, thres):\n",
    "    pic = picture.copy()\n",
    "    pixels = pic.load() # create the pixel map\n",
    "    print(pixels);\n",
    "    max = 0\n",
    "    for i in range(pic.size[0]): # for every pixel:\n",
    "        for j in range(pic.size[1]):\n",
    "            #print(pixels[i,j])\n",
    "            r,g,b = pixels[i,j];\n",
    "            average = int((r + b + g) / 3)\n",
    "            if max < average:\n",
    "                max = average;\n",
    "            pixels[i,j] = (average, average, average)\n",
    "            #print(str(r) + \" \" + str(g) + \" \" + str(b))\n",
    "    #pic.show()\n",
    "    for i in range(pic.size[0]): # for every pixel:\n",
    "        for j in range(pic.size[1]):\n",
    "            #print(pixels[i,j])\n",
    "            r,g,b = pixels[i,j];\n",
    "            scaled = int(255 * r / max)\n",
    "            if (scaled < thres) :\n",
    "                scaled = 0\n",
    "            else:\n",
    "                scaled = 255\n",
    "            pixels[i,j] = (scaled, scaled, scaled)\n",
    "    return pic\n",
    "\n",
    "high_contrast(imgOrg, 100)\n"
   ]
  },
  {
   "cell_type": "code",
   "execution_count": 5,
   "id": "37862449-747a-4784-a396-30fc6d9a7e90",
   "metadata": {},
   "outputs": [
    {
     "name": "stdout",
     "output_type": "stream",
     "text": [
      "<PixelAccess object at 0x7f8ec044ced0>\n"
     ]
    },
    {
     "data": {
      "image/png": "[encoded data removed]",
      "text/plain": [
       "<PIL.Image.Image image mode=RGB size=750x1000 at 0x7F8EE0251B20>"
      ]
     },
     "execution_count": 5,
     "metadata": {},
     "output_type": "execute_result"
    }
   ],
   "source": [
    "def blank(picture):\n",
    "    pic = picture.copy();\n",
    "    pixels = pic.load()\n",
    "    for i in range(pic.size[0]): # for every pixel:\n",
    "        for j in range(pic.size[1]):\n",
    "            #print(pixels[i,j])\n",
    "            pixels[i,j] = (255, 255, 255)\n",
    "    return pic\n",
    "\n",
    "def infill_color(picture, color):\n",
    "    pic_b = high_contrast(imgOrg, 100)\n",
    "    pic_empty = blank(picture)\n",
    "\n",
    "    highConPixels = pic_b.load()\n",
    "    outPixels = pic_empty.load()\n",
    "    fill = []\n",
    "    if color == \"red\":\n",
    "        fill = [254, 0, 0]\n",
    "    elif color == \"green\":\n",
    "        fill = [0, 254, 0]\n",
    "    elif color == \"blue\":\n",
    "        fill = [0, 0, 254]\n",
    "    elif color == \"black\":\n",
    "        fill = [0, 0, 0]\n",
    "    else:\n",
    "        fill = [random.randint(0, 254), random.randint(0, 254), random.randint(0, 254)]\n",
    "    \n",
    "    for i in range(picture.size[0]): # for every pixel in :\n",
    "        for j in range(picture.size[1]):\n",
    "            #print(pixels[i,j])\n",
    "            if highConPixels[i,j] == (0,0,0):\n",
    "                if (i == 0):\n",
    "                    if (j == 0):\n",
    "                        if highConPixels[i+1,j] == (0,0,0) or highConPixels[i+1,j+1] == (0,0,0) or highConPixels[i,j+1] == (0,0,0):\n",
    "                            outPixels[i,j] = (255,255,255)\n",
    "                    elif (j == picture.size[1] -1):\n",
    "                        if highConPixels[i+1,j] == (0,0,0) or highConPixels[i+1,j-1] == (0,0,0) or highConPixels[i,j-1] == (0,0,0):\n",
    "                            outPixels[i,j] = (0,255,255)\n",
    "                    else:\n",
    "                        if highConPixels[i+1,j] == (255,255,255) or highConPixels[i+1,j-1] == (255,255,255) or highConPixels[i,j-1] == (255,255,255) or highConPixels[i+1,j+1] == (255,255,255) or highConPixels[i,j+1] == (255,255,255):\n",
    "                            outPixels[i,j] = (0,0,0)\n",
    "                elif (i == picture.size[0] -1):\n",
    "                    if (j == 0):\n",
    "                        if highConPixels[i-11,j] == (255,255,255) or highConPixels[i-11,j+1] == (255,255,255) or highConPixels[i,j+1] == (255,255,255):\n",
    "                            outPixels[i,j] = (0,0,0)\n",
    "                    elif (j == picture.size[1] -1):\n",
    "                        if highConPixels[i-1,j] == (255,255,255) or highConPixels[i-1,j-1] == (255,255,255) or highConPixels[i,j-1] == (255,255,255):\n",
    "                            outPixels[i,j] = (0,55,55)\n",
    "                    else:\n",
    "                        if highConPixels[i-1,j] == (255,255,255) or highConPixels[i-1,j-1] == (255,255,255) or highConPixels[i,j-1] == (255,255,255) or highConPixels[i-1,j+1] == (255,255,255) or highConPixels[i,j+1] == (255,255,255):\n",
    "                            outPixels[i,j] = (0,55,55)\n",
    "                else:\n",
    "                    if (j == 0):\n",
    "                        if highConPixels[i-11,j] == (0,0,0) or highConPixels[i-11,j+1] == (0,0,0) or highConPixels[i,j+1] == (0,0,0) or highConPixels[i+1,j] == (0,0,0) or highConPixels[i+1,j+1] == (0,0,0):\n",
    "                            outPixels[i,j] = (0,55,55)\n",
    "                    elif (j == picture.size[1] -1):\n",
    "                        if highConPixels[i-1,j] == (0,0,0) or highConPixels[i-1,j-1] == (0,0,0) or highConPixels[i,j-1] == (0,0,0) or highConPixels[i+1,j] == (0,0,0) or highConPixels[i+1,j-1] == (0,0,0):\n",
    "                            outPixels[i,j] = (0,55,55)\n",
    "                    else:\n",
    "                        if highConPixels[i-1,j] == (0,0,0) or highConPixels[i-1,j-1] == (0,0,0) or highConPixels[i-1,j+1] == (0,0,0) or highConPixels[i,j+1] == (0,0,0) or highConPixels[i+1,j] == (0,0,0) or highConPixels[i+1,j-1] == (0,0,0) or highConPixels[i,j-1] == (0,0,0) or highConPixels[i+1,j+1] == (0,0,0):\n",
    "                            outPixels[i,j] = (fill[0],fill[1],fill[2])\n",
    "    return pic_empty\n",
    "infill_color(imgOrg, \"\")"
   ]
  },
  {
   "cell_type": "code",
   "execution_count": null,
   "id": "b742e3dc",
   "metadata": {},
   "outputs": [],
   "source": [
    "def outline(pic, thres):\n",
    "    highCon = high_contrast(pic, thres)\n",
    "    out = blank(pic)\n",
    "\n",
    "    highConPixels = highCon.load()\n",
    "    outPixels = out.load()\n",
    "    \n",
    "    for i in range(pic.size[0]): # for every pixel:\n",
    "        for j in range(pic.size[1]):\n",
    "            #print(pixels[i,j])\n",
    "            if highConPixels[i,j] == (0,0,0):\n",
    "                if (i == 0):\n",
    "                    if (j == 0):\n",
    "                        if highConPixels[i+1,j] == (255,255,255) or highConPixels[i+1,j+1] == (255,255,255) or highConPixels[i,j+1] == (255,255,255):\n",
    "                            outPixels[i,j] = (0,0,0)\n",
    "                    elif (j == pic.size[1] -1):\n",
    "                        if highConPixels[i+1,j] == (255,255,255) or highConPixels[i+1,j-1] == (255,255,255) or highConPixels[i,j-1] == (255,255,255):\n",
    "                            outPixels[i,j] = (0,0,0)\n",
    "                    else:\n",
    "                        if highConPixels[i+1,j] == (255,255,255) or highConPixels[i+1,j-1] == (255,255,255) or highConPixels[i,j-1] == (255,255,255) or highConPixels[i+1,j+1] == (255,255,255) or highConPixels[i,j+1] == (255,255,255):\n",
    "                            outPixels[i,j] = (0,0,0)\n",
    "                elif (i == pic.size[0] -1):\n",
    "                    if (j == 0):\n",
    "                        if highConPixels[i-11,j] == (255,255,255) or highConPixels[i-11,j+1] == (255,255,255) or highConPixels[i,j+1] == (255,255,255):\n",
    "                            outPixels[i,j] = (0,0,0)\n",
    "                    elif (j == pic.size[1] -1):\n",
    "                        if highConPixels[i-1,j] == (255,255,255) or highConPixels[i-1,j-1] == (255,255,255) or highConPixels[i,j-1] == (255,255,255):\n",
    "                            outPixels[i,j] = (0,0,0)\n",
    "                    else:\n",
    "                        if highConPixels[i-1,j] == (255,255,255) or highConPixels[i-1,j-1] == (255,255,255) or highConPixels[i,j-1] == (255,255,255) or highConPixels[i-1,j+1] == (255,255,255) or highConPixels[i,j+1] == (255,255,255):\n",
    "                            outPixels[i,j] = (0,0,0)\n",
    "                else:\n",
    "                    if (j == 0):\n",
    "                        if highConPixels[i-11,j] == (255,255,255) or highConPixels[i-11,j+1] == (255,255,255) or highConPixels[i,j+1] == (255,255,255) or highConPixels[i+1,j] == (255,255,255) or highConPixels[i+1,j+1] == (255,255,255):\n",
    "                            outPixels[i,j] = (0,0,0)\n",
    "                    elif (j == pic.size[1] -1):\n",
    "                        if highConPixels[i-1,j] == (255,255,255) or highConPixels[i-1,j-1] == (255,255,255) or highConPixels[i,j-1] == (255,255,255) or highConPixels[i+1,j] == (255,255,255) or highConPixels[i+1,j-1] == (255,255,255):\n",
    "                            outPixels[i,j] = (0,0,0)\n",
    "                    else:\n",
    "                        if highConPixels[i-1,j] == (255,255,255) or highConPixels[i-1,j-1] == (255,255,255) or highConPixels[i-1,j+1] == (255,255,255) or highConPixels[i,j+1] == (255,255,255) or highConPixels[i+1,j] == (255,255,255) or highConPixels[i+1,j-1] == (255,255,255) or highConPixels[i,j-1] == (255,255,255) or highConPixels[i+1,j+1] == (255,255,255):\n",
    "                            outPixels[i,j] = (0,0,0)\n",
    "    return out\n",
    "\n",
    "outline(imgOrg, 100)\n",
    "    "
   ]
  },
  {
   "cell_type": "code",
   "execution_count": null,
   "id": "d6940fc8",
   "metadata": {},
   "outputs": [],
   "source": [
    "def smooth(picture):\n",
    "\n",
    "    cvHigh = np.array(picture)\n",
    "    kernel = np.ones((5,5),np.float32)/25\n",
    "    cvHigh = cv2.filter2D(cvHigh,-1,kernel)\n",
    "    pic = Image.fromarray(cvHigh)\n",
    "    return pic\n",
    "\n",
    "def blurry(picture):\n",
    "    pic = smooth(picture)\n",
    "    for i in range(1000):\n",
    "        pic = smooth(pic)\n",
    "    #pic = picture.copy()\n",
    "    '''\n",
    "    pic = pic.resize((round(pic.size[0]/32), round(pic.size[1]/32)))\n",
    "    pic = pic.resize(picture.size)\n",
    "    '''\n",
    "    \n",
    "    \n",
    "    \n",
    "    return pic\n",
    "blurry(imgOrg)\n"
   ]
  },
  {
   "cell_type": "code",
   "execution_count": null,
   "id": "2977eecf-d94c-41f5-b9f8-5e601dfaddc5",
   "metadata": {},
   "outputs": [],
   "source": [
    "def alot(im, x=0, y=0):\n",
    "    for i in range(x):\n",
    "        im = concatenate((im[:,0::2], im[:,1::2]), axis=1)\n",
    "    for i in range(y):\n",
    "        im = concatenate((im[0::2,:], im[1::2,:]), axis=0)\n",
    "    return im\n",
    "\n",
    "pylab.imshow(alot(im1, 3,3))"
   ]
  },
  {
   "cell_type": "code",
   "execution_count": null,
   "id": "ec348a90-af87-4896-aaef-0e08100bb3e3",
   "metadata": {},
   "outputs": [],
   "source": [
    "def colorize(picture):\n",
    "    plt.figure(num=None, figsize=(8, 6), dpi=80)\n",
    "    morph = rgb2gray(picture)\n",
    "    return morph;\n",
    "imshow(colorize(im1))"
   ]
  },
  {
   "cell_type": "code",
   "execution_count": null,
   "id": "2f2c90f4-fc49-4d6a-bc53-b5f152764a0b",
   "metadata": {},
   "outputs": [],
   "source": [
    "c = colorize(im1)\n",
    "pylab.imshow(alot(c, 1, 3))"
   ]
  },
  {
   "cell_type": "code",
   "execution_count": null,
   "id": "cd61b823-5236-4566-af29-8baf903c251b",
   "metadata": {},
   "outputs": [],
   "source": []
  }
 ],
 "metadata": {
  "kernelspec": {
   "display_name": "Python 3",
   "language": "python",
   "name": "python3"
  },
  "language_info": {
   "codemirror_mode": {
    "name": "ipython",
    "version": 3
   },
   "file_extension": ".py",
   "mimetype": "text/x-python",
   "name": "python",
   "nbconvert_exporter": "python",
   "pygments_lexer": "ipython3",
   "version": "3.8.8"
  }
 },
 "nbformat": 4,
 "nbformat_minor": 5
}
