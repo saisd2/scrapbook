{
 "cells": [
  {
   "cell_type": "code",
   "execution_count": 1,
   "id": "8df74a4c-537f-4cb8-92f3-c9ead1c3040f",
   "metadata": {},
   "outputs": [],
   "source": [
    "# Use if pillow not installed\n",
    "# !pip install pillow"
   ]
  },
  {
   "cell_type": "code",
   "execution_count": 2,
   "id": "b5226e94-14a7-415d-a481-4211c22d60c8",
   "metadata": {},
   "outputs": [],
   "source": [
    "import colorsys;\n",
    "from PIL import Image\n",
    "import numpy as np"
   ]
  },
  {
   "cell_type": "code",
   "execution_count": 11,
   "id": "77a69354-3966-4b21-9276-c585b51e704b",
   "metadata": {},
   "outputs": [
    {
     "name": "stdout",
     "output_type": "stream",
     "text": [
      "<PixelAccess object at 0x7f8bf0ef8f90>\n"
     ]
    }
   ],
   "source": [
    "imgOrg = Image.open('ECE copy.png')\n",
    "img = imgOrg.copy();\n",
    "\n",
    "\n",
    "def high_contrast(pic):\n",
    "    pixels = pic.load() # create the pixel map\n",
    "    print(pixels);\n",
    "    max = 0\n",
    "    for i in range(pic.size[0]): # for every pixel:\n",
    "        for j in range(pic.size[1]):\n",
    "            #print(pixels[i,j])\n",
    "            r,g,b = pixels[i,j];\n",
    "            average = int((r + b + g) / 3)\n",
    "            if max < average:\n",
    "                max = average;\n",
    "            pixels[i,j] = (average, average, average)\n",
    "            #print(str(r) + \" \" + str(g) + \" \" + str(b))\n",
    "    #pic.show()\n",
    "    for i in range(pic.size[0]): # for every pixel:\n",
    "        for j in range(pic.size[1]):\n",
    "            #print(pixels[i,j])\n",
    "            r,g,b = pixels[i,j];\n",
    "            scaled = int(255 * r / max)\n",
    "            if (scaled < 255/2) :\n",
    "                scaled = 0\n",
    "            else:\n",
    "                scaled = 255\n",
    "            pixels[i,j] = (scaled, scaled, scaled)\n",
    "\n",
    "high_contrast(img)\n",
    "\n",
    "img.show();"
   ]
  },
  {
   "cell_type": "code",
   "execution_count": null,
   "id": "b742e3dc",
   "metadata": {},
   "outputs": [],
   "source": []
  }
 ],
 "metadata": {
  "kernelspec": {
   "display_name": "Python 3 (ipykernel)",
   "language": "python",
   "name": "python3"
  },
  "language_info": {
   "codemirror_mode": {
    "name": "ipython",
    "version": 3
   },
   "file_extension": ".py",
   "mimetype": "text/x-python",
   "name": "python",
   "nbconvert_exporter": "python",
   "pygments_lexer": "ipython3",
   "version": "3.10.0"
  }
 },
 "nbformat": 4,
 "nbformat_minor": 5
}
